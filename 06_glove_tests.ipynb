{
  "nbformat": 4,
  "nbformat_minor": 0,
  "metadata": {
    "colab": {
      "name": "06-glove_tests.ipynb",
      "provenance": [],
      "include_colab_link": true
    },
    "kernelspec": {
      "name": "python3",
      "display_name": "Python 3"
    }
  },
  "cells": [
    {
      "cell_type": "markdown",
      "metadata": {
        "id": "view-in-github",
        "colab_type": "text"
      },
      "source": [
        "<a href=\"https://colab.research.google.com/github/deeplearning-itba/NLP-Embeddings/blob/master/06_glove_tests.ipynb\" target=\"_parent\"><img src=\"https://colab.research.google.com/assets/colab-badge.svg\" alt=\"Open In Colab\"/></a>"
      ]
    },
    {
      "cell_type": "code",
      "metadata": {
        "id": "v-mvGMujSz8W",
        "colab_type": "code",
        "colab": {}
      },
      "source": [
        "# from google.colab import drive\n",
        "# drive.mount('/content/drive')"
      ],
      "execution_count": 0,
      "outputs": []
    },
    {
      "cell_type": "markdown",
      "metadata": {
        "id": "O-pmzBsoTA92",
        "colab_type": "text"
      },
      "source": [
        "Agregar este archivo a la carpeta de google drive clickeando en el link y clickeando el '+' arriba a la derecha\n",
        "\n",
        "https://drive.google.com/open?id=1jJ20oNZIysi-V-iORAE0eEZq4LhuWxUW"
      ]
    },
    {
      "cell_type": "code",
      "metadata": {
        "id": "kfTcbRdGVRj4",
        "colab_type": "code",
        "colab": {}
      },
      "source": [
        "import codecs\n",
        "import numpy as np"
      ],
      "execution_count": 0,
      "outputs": []
    },
    {
      "cell_type": "code",
      "metadata": {
        "id": "JUUN3Z3BRO5_",
        "colab_type": "code",
        "colab": {
          "base_uri": "https://localhost:8080/",
          "height": 357
        },
        "outputId": "acf66292-7e42-4995-d424-95de548e955b"
      },
      "source": [
        "! wget http://nlp.stanford.edu/data/glove.6B.zip"
      ],
      "execution_count": 4,
      "outputs": [
        {
          "output_type": "stream",
          "text": [
            "--2019-10-17 15:14:22--  http://nlp.stanford.edu/data/glove.6B.zip\n",
            "Resolving nlp.stanford.edu (nlp.stanford.edu)... 171.64.67.140\n",
            "Connecting to nlp.stanford.edu (nlp.stanford.edu)|171.64.67.140|:80... connected.\n",
            "HTTP request sent, awaiting response... 302 Found\n",
            "Location: https://nlp.stanford.edu/data/glove.6B.zip [following]\n",
            "--2019-10-17 15:14:22--  https://nlp.stanford.edu/data/glove.6B.zip\n",
            "Connecting to nlp.stanford.edu (nlp.stanford.edu)|171.64.67.140|:443... connected.\n",
            "HTTP request sent, awaiting response... 301 Moved Permanently\n",
            "Location: http://downloads.cs.stanford.edu/nlp/data/glove.6B.zip [following]\n",
            "--2019-10-17 15:14:23--  http://downloads.cs.stanford.edu/nlp/data/glove.6B.zip\n",
            "Resolving downloads.cs.stanford.edu (downloads.cs.stanford.edu)... 171.64.64.22\n",
            "Connecting to downloads.cs.stanford.edu (downloads.cs.stanford.edu)|171.64.64.22|:80... connected.\n",
            "HTTP request sent, awaiting response... 200 OK\n",
            "Length: 862182613 (822M) [application/zip]\n",
            "Saving to: ‘glove.6B.zip’\n",
            "\n",
            "glove.6B.zip        100%[===================>] 822.24M  2.13MB/s    in 6m 29s  \n",
            "\n",
            "2019-10-17 15:20:52 (2.11 MB/s) - ‘glove.6B.zip’ saved [862182613/862182613]\n",
            "\n"
          ],
          "name": "stdout"
        }
      ]
    },
    {
      "cell_type": "code",
      "metadata": {
        "id": "2aoTi2n7RQtS",
        "colab_type": "code",
        "colab": {
          "base_uri": "https://localhost:8080/",
          "height": 102
        },
        "outputId": "0a5a4ca7-0852-41d4-a410-284967019fa5"
      },
      "source": [
        "! unzip glove.6B.zip"
      ],
      "execution_count": 5,
      "outputs": [
        {
          "output_type": "stream",
          "text": [
            "Archive:  glove.6B.zip\n",
            "  inflating: glove.6B.50d.txt        \n",
            "  inflating: glove.6B.100d.txt       \n",
            "  inflating: glove.6B.200d.txt       \n",
            "  inflating: glove.6B.300d.txt       \n"
          ],
          "name": "stdout"
        }
      ]
    },
    {
      "cell_type": "code",
      "metadata": {
        "id": "Z8AzLFXZUTCw",
        "colab_type": "code",
        "colab": {}
      },
      "source": [
        "# EMBEDDING_DIR = \"/content/drive/My Drive/ITBA/Lab-NLP/Embeddings/glove/\"\n",
        "EMBEDDING_DIR = \"./\"\n"
      ],
      "execution_count": 0,
      "outputs": []
    },
    {
      "cell_type": "code",
      "metadata": {
        "id": "AsO8d8w6TxBh",
        "colab_type": "code",
        "colab": {}
      },
      "source": [
        "def load_embeddings(file, embed_dim=100):\n",
        "  #load embeddings\n",
        "\n",
        "  print('loading word embeddings...')\n",
        "  embeddings_index = {}\n",
        "  f = codecs.open(EMBEDDING_DIR+'glove.6B.100d.txt', encoding='utf-8')\n",
        "  for line in f:\n",
        "      values = line.rstrip().rsplit(' ')\n",
        "      word = values[0]\n",
        "      coefs = np.asarray(values[1:], dtype='float32')\n",
        "      embeddings_index[word] = coefs\n",
        "  f.close()\n",
        "  print('found %s word vectors' % len(embeddings_index))\n",
        "  return embeddings_index"
      ],
      "execution_count": 0,
      "outputs": []
    },
    {
      "cell_type": "code",
      "metadata": {
        "id": "iG3clQ-EUPV5",
        "colab_type": "code",
        "colab": {
          "base_uri": "https://localhost:8080/",
          "height": 51
        },
        "outputId": "c0bd72f1-c947-4d46-f972-8b3b58f0d381"
      },
      "source": [
        "# embeddings_index = load_embeddings(EMBEDDING_DIR+'glove.6B.300d.txt', embed_dim=300)\n",
        "embeddings_index = load_embeddings(EMBEDDING_DIR+'glove.6B.100d.txt')"
      ],
      "execution_count": 103,
      "outputs": [
        {
          "output_type": "stream",
          "text": [
            "loading word embeddings...\n",
            "found 400000 word vectors\n"
          ],
          "name": "stdout"
        }
      ]
    },
    {
      "cell_type": "code",
      "metadata": {
        "id": "Mk9GpdAgWhvl",
        "colab_type": "code",
        "colab": {}
      },
      "source": [
        "matrix_word_vectors = np.array(list(embeddings_index.values()))\n",
        "vocab_list = np.array(list(embeddings_index.keys()))"
      ],
      "execution_count": 0,
      "outputs": []
    },
    {
      "cell_type": "code",
      "metadata": {
        "id": "rXoyk7t7XHIb",
        "colab_type": "code",
        "colab": {}
      },
      "source": [
        "from sklearn.neighbors import NearestNeighbors"
      ],
      "execution_count": 0,
      "outputs": []
    },
    {
      "cell_type": "code",
      "metadata": {
        "id": "8TLQNKXtX06m",
        "colab_type": "code",
        "colab": {}
      },
      "source": [
        "nearest = NearestNeighbors(n_neighbors=20, metric='cosine')"
      ],
      "execution_count": 0,
      "outputs": []
    },
    {
      "cell_type": "code",
      "metadata": {
        "id": "9WvK0UfeX5GP",
        "colab_type": "code",
        "colab": {
          "base_uri": "https://localhost:8080/",
          "height": 68
        },
        "outputId": "8b8da128-2b72-4fe5-b4b5-c7c073e6d8b7"
      },
      "source": [
        "nearest.fit(matrix_word_vectors)"
      ],
      "execution_count": 107,
      "outputs": [
        {
          "output_type": "execute_result",
          "data": {
            "text/plain": [
              "NearestNeighbors(algorithm='auto', leaf_size=30, metric='cosine',\n",
              "                 metric_params=None, n_jobs=None, n_neighbors=20, p=2,\n",
              "                 radius=1.0)"
            ]
          },
          "metadata": {
            "tags": []
          },
          "execution_count": 107
        }
      ]
    },
    {
      "cell_type": "code",
      "metadata": {
        "id": "oOQoMzyMjWC0",
        "colab_type": "code",
        "colab": {}
      },
      "source": [
        "def get_analogy(word1, word2, word3):\n",
        "  # word1 es a word2 como word3 es a word4\n",
        "  word4 = embeddings_index[word2] - embeddings_index[word1]  + embeddings_index[word3] \n",
        "  return word4"
      ],
      "execution_count": 0,
      "outputs": []
    },
    {
      "cell_type": "code",
      "metadata": {
        "id": "kQR4OqwrYLVn",
        "colab_type": "code",
        "colab": {}
      },
      "source": [
        "def get_nearests_words(vector):\n",
        "  distances, nearest_indexes = nearest.kneighbors(vector.reshape(1, -1))\n",
        "  words_list = []\n",
        "  for idx in nearest_indexes[0]:\n",
        "    words_list.append(vocab_list[idx])\n",
        "  return words_list"
      ],
      "execution_count": 0,
      "outputs": []
    },
    {
      "cell_type": "code",
      "metadata": {
        "id": "deLwGh_zkFbo",
        "colab_type": "code",
        "colab": {
          "base_uri": "https://localhost:8080/",
          "height": 357
        },
        "outputId": "980304d4-9bb7-4780-c53d-1d5174eb32e0"
      },
      "source": [
        "# woman -> man, queen -> ?\n",
        "# england -> london, france-> ?\n",
        "# woman -> women, man -> ?\n",
        "# messi -> soccer, federer -> ?\n",
        "\n",
        "analogy_vector = get_analogy('switzerland', 'alps', 'argentina')\n",
        "get_nearests_words(analogy_vector)"
      ],
      "execution_count": 162,
      "outputs": [
        {
          "output_type": "execute_result",
          "data": {
            "text/plain": [
              "['andes',\n",
              " 'alps',\n",
              " 'argentina',\n",
              " 'pyrenees',\n",
              " 'peru',\n",
              " 'argentine',\n",
              " 'foothills',\n",
              " 'apennines',\n",
              " 'brazil',\n",
              " 'portugal',\n",
              " 'patagonia',\n",
              " 'portuguese',\n",
              " 'juniors',\n",
              " 'chaco',\n",
              " 'mountains',\n",
              " 'coast',\n",
              " 'slopes',\n",
              " 'paraguay',\n",
              " 'madeira',\n",
              " 'pampas']"
            ]
          },
          "metadata": {
            "tags": []
          },
          "execution_count": 162
        }
      ]
    },
    {
      "cell_type": "code",
      "metadata": {
        "id": "DILrgwaRYVLu",
        "colab_type": "code",
        "colab": {}
      },
      "source": [
        "animals = get_nearests_words(embeddings_index['dog'])"
      ],
      "execution_count": 0,
      "outputs": []
    },
    {
      "cell_type": "code",
      "metadata": {
        "id": "oYFVs9ipnbbF",
        "colab_type": "code",
        "colab": {}
      },
      "source": [
        "transport = get_nearests_words(embeddings_index['car'])"
      ],
      "execution_count": 0,
      "outputs": []
    },
    {
      "cell_type": "code",
      "metadata": {
        "id": "yg9C7itHnhte",
        "colab_type": "code",
        "colab": {}
      },
      "source": [
        "countries = get_nearests_words(embeddings_index['england'] + embeddings_index['argentina'])"
      ],
      "execution_count": 0,
      "outputs": []
    },
    {
      "cell_type": "code",
      "metadata": {
        "id": "7GWSToprnOxe",
        "colab_type": "code",
        "colab": {}
      },
      "source": [
        "professions = get_nearests_words(embeddings_index['doctor']) + get_nearests_words(embeddings_index['engineer']) \\\n",
        "+ get_nearests_words(embeddings_index['economist'])"
      ],
      "execution_count": 0,
      "outputs": []
    },
    {
      "cell_type": "code",
      "metadata": {
        "id": "q7yBjxNNn07R",
        "colab_type": "code",
        "colab": {}
      },
      "source": [
        "all_words = animals + transport + countries + professions"
      ],
      "execution_count": 0,
      "outputs": []
    },
    {
      "cell_type": "code",
      "metadata": {
        "id": "LMhEWApEoV_h",
        "colab_type": "code",
        "colab": {}
      },
      "source": [
        "vectors_subset = np.array([embeddings_index[word] for word in all_words])"
      ],
      "execution_count": 0,
      "outputs": []
    },
    {
      "cell_type": "code",
      "metadata": {
        "id": "7rOSh6UOoLPX",
        "colab_type": "code",
        "colab": {}
      },
      "source": [
        "from sklearn.manifold import TSNE"
      ],
      "execution_count": 0,
      "outputs": []
    },
    {
      "cell_type": "code",
      "metadata": {
        "id": "GhLy6ekooxkK",
        "colab_type": "code",
        "colab": {}
      },
      "source": [
        "tsne = TSNE(2, verbose=1)"
      ],
      "execution_count": 0,
      "outputs": []
    },
    {
      "cell_type": "code",
      "metadata": {
        "id": "6-SH_MWXo0MA",
        "colab_type": "code",
        "colab": {
          "base_uri": "https://localhost:8080/",
          "height": 170
        },
        "outputId": "63dffd1a-7f45-4d8f-c8b3-06cebe93d29f"
      },
      "source": [
        "%time embed_2d_tsne = tsne.fit_transform(vectors_subset)"
      ],
      "execution_count": 190,
      "outputs": [
        {
          "output_type": "stream",
          "text": [
            "[t-SNE] Computing 91 nearest neighbors...\n",
            "[t-SNE] Indexed 120 samples in 0.000s...\n",
            "[t-SNE] Computed neighbors for 120 samples in 0.015s...\n",
            "[t-SNE] Computed conditional probabilities for sample 120 / 120\n",
            "[t-SNE] Mean sigma: 2.776161\n",
            "[t-SNE] KL divergence after 250 iterations with early exaggeration: 58.507732\n",
            "[t-SNE] KL divergence after 1000 iterations: 0.190698\n",
            "CPU times: user 560 ms, sys: 88.9 ms, total: 649 ms\n",
            "Wall time: 564 ms\n"
          ],
          "name": "stdout"
        }
      ]
    },
    {
      "cell_type": "code",
      "metadata": {
        "id": "refMfFQqo3-3",
        "colab_type": "code",
        "colab": {}
      },
      "source": [
        "from matplotlib import pyplot as plt"
      ],
      "execution_count": 0,
      "outputs": []
    },
    {
      "cell_type": "code",
      "metadata": {
        "id": "tpYyqyQTo-RU",
        "colab_type": "code",
        "colab": {
          "base_uri": "https://localhost:8080/",
          "height": 269
        },
        "outputId": "a6914089-36b9-4aff-b2e3-ed45ea47f828"
      },
      "source": [
        "for i in range(4):\n",
        "  plt.scatter(embed_2d_tsne[i*20:(i+1)*20,0], embed_2d_tsne[i*20:(i+1)*20,1], c=f'C{i}')"
      ],
      "execution_count": 194,
      "outputs": [
        {
          "output_type": "display_data",
          "data": {
            "image/png": "[encoded data removed]",
            "text/plain": [
              "<Figure size 432x288 with 1 Axes>"
            ]
          },
          "metadata": {
            "tags": []
          }
        }
      ]
    },
    {
      "cell_type": "code",
      "metadata": {
        "id": "ITTs5oXipFtB",
        "colab_type": "code",
        "colab": {}
      },
      "source": [
        ""
      ],
      "execution_count": 0,
      "outputs": []
    }
  ]
}