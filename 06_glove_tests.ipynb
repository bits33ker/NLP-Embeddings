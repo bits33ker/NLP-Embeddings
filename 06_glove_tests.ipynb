{
  "nbformat": 4,
  "nbformat_minor": 0,
  "metadata": {
    "colab": {
      "name": "06-glove_tests.ipynb",
      "provenance": [],
      "include_colab_link": true
    },
    "kernelspec": {
      "name": "python3",
      "display_name": "Python 3"
    }
  },
  "cells": [
    {
      "cell_type": "markdown",
      "metadata": {
        "id": "view-in-github",
        "colab_type": "text"
      },
      "source": [
        "<a href=\"https://colab.research.google.com/github/deeplearning-itba/NLP-Embeddings/blob/master/06_glove_tests.ipynb\" target=\"_parent\"><img src=\"https://colab.research.google.com/assets/colab-badge.svg\" alt=\"Open In Colab\"/></a>"
      ]
    },
    {
      "cell_type": "code",
      "metadata": {
        "id": "v-mvGMujSz8W",
        "colab_type": "code",
        "colab": {
          "base_uri": "https://localhost:8080/",
          "height": 122
        },
        "outputId": "2f7d65d2-887e-458b-8a96-85814bf35383"
      },
      "source": [
        "from google.colab import drive\n",
        "drive.mount('/content/drive')"
      ],
      "execution_count": 5,
      "outputs": [
        {
          "output_type": "stream",
          "text": [
            "Go to this URL in a browser: https://accounts.google.com/o/oauth2/auth?client_id=947318989803-6bn6qk8qdgf4n4g3pfee6491hc0brc4i.apps.googleusercontent.com&redirect_uri=urn%3Aietf%3Awg%3Aoauth%3A2.0%3Aoob&scope=email%20https%3A%2F%2Fwww.googleapis.com%2Fauth%2Fdocs.test%20https%3A%2F%2Fwww.googleapis.com%2Fauth%2Fdrive%20https%3A%2F%2Fwww.googleapis.com%2Fauth%2Fdrive.photos.readonly%20https%3A%2F%2Fwww.googleapis.com%2Fauth%2Fpeopleapi.readonly&response_type=code\n",
            "\n",
            "Enter your authorization code:\n",
            "··········\n",
            "Mounted at /content/drive\n"
          ],
          "name": "stdout"
        }
      ]
    },
    {
      "cell_type": "markdown",
      "metadata": {
        "id": "O-pmzBsoTA92",
        "colab_type": "text"
      },
      "source": [
        "Agregar este archivo a la carpeta de google drive clickeando en el link y clickeando el '+' arriba a la derecha\n",
        "\n",
        "https://drive.google.com/open?id=1jJ20oNZIysi-V-iORAE0eEZq4LhuWxUW"
      ]
    },
    {
      "cell_type": "code",
      "metadata": {
        "id": "kfTcbRdGVRj4",
        "colab_type": "code",
        "colab": {}
      },
      "source": [
        "import codecs\n",
        "import numpy as np"
      ],
      "execution_count": 0,
      "outputs": []
    },
    {
      "cell_type": "code",
      "metadata": {
        "id": "JUUN3Z3BRO5_",
        "colab_type": "code",
        "colab": {}
      },
      "source": [
        "# ! wget http://nlp.stanford.edu/data/glove.6B.zip"
      ],
      "execution_count": 0,
      "outputs": []
    },
    {
      "cell_type": "code",
      "metadata": {
        "id": "2aoTi2n7RQtS",
        "colab_type": "code",
        "colab": {}
      },
      "source": [
        "# ! unzip glove.6B.zip"
      ],
      "execution_count": 0,
      "outputs": []
    },
    {
      "cell_type": "code",
      "metadata": {
        "id": "Z8AzLFXZUTCw",
        "colab_type": "code",
        "colab": {}
      },
      "source": [
        "EMBEDDING_DIR = \"/content/drive/My Drive/\"\n",
        "# EMBEDDING_DIR = \"./\"\n"
      ],
      "execution_count": 0,
      "outputs": []
    },
    {
      "cell_type": "code",
      "metadata": {
        "id": "AsO8d8w6TxBh",
        "colab_type": "code",
        "colab": {}
      },
      "source": [
        "def load_embeddings(file, embed_dim=100):\n",
        "  #load embeddings\n",
        "\n",
        "  print('loading word embeddings...')\n",
        "  embeddings_index = {}\n",
        "  f = codecs.open(EMBEDDING_DIR+'glove.6B.100d.txt', encoding='utf-8')\n",
        "  for line in f:\n",
        "      values = line.rstrip().rsplit(' ')\n",
        "      word = values[0]\n",
        "      coefs = np.asarray(values[1:], dtype='float32')\n",
        "      embeddings_index[word] = coefs\n",
        "  f.close()\n",
        "  print('found %s word vectors' % len(embeddings_index))\n",
        "  return embeddings_index"
      ],
      "execution_count": 0,
      "outputs": []
    },
    {
      "cell_type": "code",
      "metadata": {
        "id": "iG3clQ-EUPV5",
        "colab_type": "code",
        "colab": {
          "base_uri": "https://localhost:8080/",
          "height": 51
        },
        "outputId": "0b22a678-bdcb-4a29-bac9-f11cb60726cb"
      },
      "source": [
        "# embeddings_index = load_embeddings(EMBEDDING_DIR+'glove.6B.300d.txt', embed_dim=300)\n",
        "embeddings_index = load_embeddings(EMBEDDING_DIR+'glove.6B.100d.txt')"
      ],
      "execution_count": 11,
      "outputs": [
        {
          "output_type": "stream",
          "text": [
            "loading word embeddings...\n",
            "found 400000 word vectors\n"
          ],
          "name": "stdout"
        }
      ]
    },
    {
      "cell_type": "code",
      "metadata": {
        "id": "Mk9GpdAgWhvl",
        "colab_type": "code",
        "colab": {}
      },
      "source": [
        "# Armar matriz de embedigs de 400000x100\n",
        "matrix_word_vectors = # Se puede armar en una linea haciendo un cast a np.array y un .values del dict\n",
        "# Aramr lista con vocabilario\n",
        "vocab_list = # Se puede armar con una linea .keys del dict"
      ],
      "execution_count": 0,
      "outputs": []
    },
    {
      "cell_type": "code",
      "metadata": {
        "id": "cHpq6u4wj_mf",
        "colab_type": "code",
        "colab": {
          "base_uri": "https://localhost:8080/",
          "height": 34
        },
        "outputId": "5641a6aa-712c-4a90-8417-52bae646fb94"
      },
      "source": [
        "matrix_word_vectors.shape"
      ],
      "execution_count": 14,
      "outputs": [
        {
          "output_type": "execute_result",
          "data": {
            "text/plain": [
              "(400000, 100)"
            ]
          },
          "metadata": {
            "tags": []
          },
          "execution_count": 14
        }
      ]
    },
    {
      "cell_type": "code",
      "metadata": {
        "id": "rXoyk7t7XHIb",
        "colab_type": "code",
        "colab": {}
      },
      "source": [
        "from sklearn.neighbors import NearestNeighbors"
      ],
      "execution_count": 0,
      "outputs": []
    },
    {
      "cell_type": "markdown",
      "metadata": {
        "id": "VchnyUJYkYUB",
        "colab_type": "text"
      },
      "source": [
        "# Entrenar un modelo de Nearest neighbours con los 20 primeros y distancia coseno"
      ]
    },
    {
      "cell_type": "code",
      "metadata": {
        "id": "8TLQNKXtX06m",
        "colab_type": "code",
        "colab": {}
      },
      "source": [
        "nearest = "
      ],
      "execution_count": 0,
      "outputs": []
    },
    {
      "cell_type": "code",
      "metadata": {
        "id": "9WvK0UfeX5GP",
        "colab_type": "code",
        "colab": {
          "base_uri": "https://localhost:8080/",
          "height": 68
        },
        "outputId": "8681ea0a-9aee-464f-d303-825d65bd5272"
      },
      "source": [
        "# Entrenar modelo\n",
        "nearest."
      ],
      "execution_count": 18,
      "outputs": [
        {
          "output_type": "execute_result",
          "data": {
            "text/plain": [
              "NearestNeighbors(algorithm='auto', leaf_size=30, metric='cosine',\n",
              "                 metric_params=None, n_jobs=None, n_neighbors=20, p=2,\n",
              "                 radius=1.0)"
            ]
          },
          "metadata": {
            "tags": []
          },
          "execution_count": 18
        }
      ]
    },
    {
      "cell_type": "code",
      "metadata": {
        "id": "oOQoMzyMjWC0",
        "colab_type": "code",
        "colab": {}
      },
      "source": [
        "def get_analogy(word1, word2, word3, embeddings_index=embeddings_index):\n",
        "  # word1 es a word2 como word3 es a word4\n",
        "  # Tiene que devolver word4\n",
        "  return word4"
      ],
      "execution_count": 0,
      "outputs": []
    },
    {
      "cell_type": "code",
      "metadata": {
        "id": "kQR4OqwrYLVn",
        "colab_type": "code",
        "colab": {}
      },
      "source": [
        "def get_nearests_words(vector, nearest=nearest):\n",
        "  # Dado un vector, tiene que devolver la lista de los 20 mas cercanos\n",
        "  words_list = []\n",
        "  # \n",
        "  return words_list"
      ],
      "execution_count": 0,
      "outputs": []
    },
    {
      "cell_type": "code",
      "metadata": {
        "id": "deLwGh_zkFbo",
        "colab_type": "code",
        "colab": {}
      },
      "source": [
        "# Probar las siguientes analogías\n",
        "#\n",
        "# woman -> man, queen -> ?\n",
        "# england -> london, france-> ?\n",
        "# woman -> women, man -> ?\n",
        "# messi -> soccer, federer -> ?\n",
        "# switzerland -> alps, argentina ->\n",
        "\n",
        "analogy_vector = get_analogy('switzerland', 'alps', 'argentina')"
      ],
      "execution_count": 0,
      "outputs": []
    },
    {
      "cell_type": "code",
      "metadata": {
        "id": "FgWBU9zJlIPT",
        "colab_type": "code",
        "colab": {}
      },
      "source": [
        "# Probar función get_nearests_words\n",
        "get_nearests_words(analogy_vector)"
      ],
      "execution_count": 0,
      "outputs": []
    },
    {
      "cell_type": "code",
      "metadata": {
        "id": "DILrgwaRYVLu",
        "colab_type": "code",
        "colab": {}
      },
      "source": [
        "animals = ['dog',\n",
        " 'cat',\n",
        " 'dogs',\n",
        " 'pet',\n",
        " 'puppy',\n",
        " 'horse',\n",
        " 'animal',\n",
        " 'pig',\n",
        " 'boy',\n",
        " 'cats',\n",
        " 'rabbit',\n",
        " 'goat',\n",
        " 'sled',\n",
        " 'monkey',\n",
        " 'cow',\n",
        " 'rat',\n",
        " 'breed',\n",
        " 'mad',\n",
        " 'hound',\n",
        " 'bird']"
      ],
      "execution_count": 0,
      "outputs": []
    },
    {
      "cell_type": "code",
      "metadata": {
        "id": "oYFVs9ipnbbF",
        "colab_type": "code",
        "colab": {}
      },
      "source": [
        "transport = ['car',\n",
        " 'vehicle',\n",
        " 'truck',\n",
        " 'cars',\n",
        " 'driver',\n",
        " 'driving',\n",
        " 'motorcycle',\n",
        " 'vehicles',\n",
        " 'parked',\n",
        " 'bus',\n",
        " 'taxi',\n",
        " 'suv',\n",
        " 'pickup',\n",
        " 'jeep',\n",
        " 'mercedes',\n",
        " 'cab',\n",
        " 'bicycle',\n",
        " 'drivers',\n",
        " 'automobile',\n",
        " 'train']"
      ],
      "execution_count": 0,
      "outputs": []
    },
    {
      "cell_type": "code",
      "metadata": {
        "id": "yg9C7itHnhte",
        "colab_type": "code",
        "colab": {}
      },
      "source": [
        "countries = ['argentina',\n",
        " 'england',\n",
        " 'australia',\n",
        " 'spain',\n",
        " 'brazil',\n",
        " 'portugal',\n",
        " 'zealand',\n",
        " 'scotland',\n",
        " 'match',\n",
        " 'africa',\n",
        " 'wales',\n",
        " 'ireland',\n",
        " 'italy',\n",
        " 'matches',\n",
        " 'france',\n",
        " 'indies',\n",
        " 'uruguay',\n",
        " 'britain',\n",
        " 'netherlands',\n",
        " 'united']"
      ],
      "execution_count": 0,
      "outputs": []
    },
    {
      "cell_type": "code",
      "metadata": {
        "id": "7GWSToprnOxe",
        "colab_type": "code",
        "colab": {}
      },
      "source": [
        "professions = ['engineer',\n",
        " 'scientist',\n",
        " 'economist',\n",
        " 'professor',\n",
        " 'consultant',\n",
        " 'director',\n",
        " 'dr.',\n",
        " 'doctor',\n",
        " 'researcher',\n",
        " 'expert',\n",
        " 'physician',\n",
        " 'officer',\n",
        " 'surgeon',\n",
        " 'chief',\n",
        " 'assistant',\n",
        " 'specialist',\n",
        " 'associate',\n",
        " 'author',\n",
        " 'worked',\n",
        " 'psychologist']"
      ],
      "execution_count": 0,
      "outputs": []
    },
    {
      "cell_type": "code",
      "metadata": {
        "id": "q7yBjxNNn07R",
        "colab_type": "code",
        "colab": {}
      },
      "source": [
        "all_words = animals + transport + countries + professions"
      ],
      "execution_count": 0,
      "outputs": []
    },
    {
      "cell_type": "code",
      "metadata": {
        "id": "LMhEWApEoV_h",
        "colab_type": "code",
        "colab": {}
      },
      "source": [
        "vectors_subset = np.array([embeddings_index[word] for word in all_words])"
      ],
      "execution_count": 0,
      "outputs": []
    },
    {
      "cell_type": "code",
      "metadata": {
        "id": "7rOSh6UOoLPX",
        "colab_type": "code",
        "colab": {}
      },
      "source": [
        "from sklearn.manifold import TSNE"
      ],
      "execution_count": 0,
      "outputs": []
    },
    {
      "cell_type": "code",
      "metadata": {
        "id": "GhLy6ekooxkK",
        "colab_type": "code",
        "colab": {}
      },
      "source": [
        "tsne = TSNE(2, verbose=1)"
      ],
      "execution_count": 0,
      "outputs": []
    },
    {
      "cell_type": "code",
      "metadata": {
        "id": "6-SH_MWXo0MA",
        "colab_type": "code",
        "colab": {
          "base_uri": "https://localhost:8080/",
          "height": 170
        },
        "outputId": "b320bd0a-289e-40bc-e592-7522f09a49c4"
      },
      "source": [
        "%time embed_2d_tsne = tsne.fit_transform(vectors_subset)"
      ],
      "execution_count": 30,
      "outputs": [
        {
          "output_type": "stream",
          "text": [
            "[t-SNE] Computing 91 nearest neighbors...\n",
            "[t-SNE] Indexed 120 samples in 0.000s...\n",
            "[t-SNE] Computed neighbors for 120 samples in 0.018s...\n",
            "[t-SNE] Computed conditional probabilities for sample 120 / 120\n",
            "[t-SNE] Mean sigma: 2.776161\n",
            "[t-SNE] KL divergence after 250 iterations with early exaggeration: 60.019760\n",
            "[t-SNE] KL divergence after 1000 iterations: 0.176748\n",
            "CPU times: user 591 ms, sys: 111 ms, total: 702 ms\n",
            "Wall time: 617 ms\n"
          ],
          "name": "stdout"
        }
      ]
    },
    {
      "cell_type": "code",
      "metadata": {
        "id": "refMfFQqo3-3",
        "colab_type": "code",
        "colab": {}
      },
      "source": [
        "from matplotlib import pyplot as plt"
      ],
      "execution_count": 0,
      "outputs": []
    },
    {
      "cell_type": "code",
      "metadata": {
        "id": "tpYyqyQTo-RU",
        "colab_type": "code",
        "colab": {}
      },
      "source": [
        "for i in range(4):\n",
        "  plt.scatter(embed_2d_tsne[i*20:(i+1)*20,0], embed_2d_tsne[i*20:(i+1)*20,1], c=f'C{i}')"
      ],
      "execution_count": 0,
      "outputs": []
    },
    {
      "cell_type": "code",
      "metadata": {
        "id": "ITTs5oXipFtB",
        "colab_type": "code",
        "colab": {}
      },
      "source": [
        ""
      ],
      "execution_count": 0,
      "outputs": []
    }
  ]
}