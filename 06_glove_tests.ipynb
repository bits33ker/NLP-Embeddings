{
 "cells": [
  {
   "cell_type": "markdown",
   "metadata": {
    "colab_type": "text",
    "id": "view-in-github"
   },
   "source": [
    "<a href=\"https://colab.research.google.com/github/deeplearning-itba/NLP-Embeddings/blob/master/06_glove_tests.ipynb\" target=\"_parent\"><img src=\"https://colab.research.google.com/assets/colab-badge.svg\" alt=\"Open In Colab\"/></a>"
   ]
  },
  {
   "cell_type": "code",
   "execution_count": 5,
   "metadata": {
    "colab": {
     "base_uri": "https://localhost:8080/",
     "height": 122
    },
    "colab_type": "code",
    "id": "v-mvGMujSz8W",
    "outputId": "2f7d65d2-887e-458b-8a96-85814bf35383"
   },
   "outputs": [
    {
     "name": "stdout",
     "output_type": "stream",
     "text": [
      "Go to this URL in a browser: https://accounts.google.com/o/oauth2/auth?client_id=947318989803-6bn6qk8qdgf4n4g3pfee6491hc0brc4i.apps.googleusercontent.com&redirect_uri=urn%3Aietf%3Awg%3Aoauth%3A2.0%3Aoob&scope=email%20https%3A%2F%2Fwww.googleapis.com%2Fauth%2Fdocs.test%20https%3A%2F%2Fwww.googleapis.com%2Fauth%2Fdrive%20https%3A%2F%2Fwww.googleapis.com%2Fauth%2Fdrive.photos.readonly%20https%3A%2F%2Fwww.googleapis.com%2Fauth%2Fpeopleapi.readonly&response_type=code\n",
      "\n",
      "Enter your authorization code:\n",
      "··········\n",
      "Mounted at /content/drive\n"
     ]
    }
   ],
   "source": [
    "from google.colab import drive\n",
    "drive.mount('/content/drive')"
   ]
  },
  {
   "cell_type": "markdown",
   "metadata": {
    "colab_type": "text",
    "id": "O-pmzBsoTA92"
   },
   "source": [
    "Agregar este archivo a la carpeta de google drive clickeando en el link y clickeando el '+' arriba a la derecha\n",
    "\n",
    "https://drive.google.com/open?id=1jJ20oNZIysi-V-iORAE0eEZq4LhuWxUW"
   ]
  },
  {
   "cell_type": "code",
   "execution_count": 1,
   "metadata": {
    "colab": {},
    "colab_type": "code",
    "id": "kfTcbRdGVRj4"
   },
   "outputs": [],
   "source": [
    "import codecs\n",
    "import numpy as np"
   ]
  },
  {
   "cell_type": "code",
   "execution_count": 2,
   "metadata": {
    "colab": {},
    "colab_type": "code",
    "id": "JUUN3Z3BRO5_"
   },
   "outputs": [
    {
     "name": "stdout",
     "output_type": "stream",
     "text": [
      "--2019-10-24 17:00:35--  http://nlp.stanford.edu/data/glove.6B.zip\n",
      "Resolviendo nlp.stanford.edu (nlp.stanford.edu)... 171.64.67.140\n",
      "Conectando con nlp.stanford.edu (nlp.stanford.edu)[171.64.67.140]:80... conectado.\n",
      "Petición HTTP enviada, esperando respuesta... 302 Found\n",
      "Ubicación: https://nlp.stanford.edu/data/glove.6B.zip [siguiente]\n",
      "--2019-10-24 17:00:35--  https://nlp.stanford.edu/data/glove.6B.zip\n",
      "Conectando con nlp.stanford.edu (nlp.stanford.edu)[171.64.67.140]:443... conectado.\n",
      "Petición HTTP enviada, esperando respuesta... 301 Moved Permanently\n",
      "Ubicación: http://downloads.cs.stanford.edu/nlp/data/glove.6B.zip [siguiente]\n",
      "--2019-10-24 17:00:36--  http://downloads.cs.stanford.edu/nlp/data/glove.6B.zip\n",
      "Resolviendo downloads.cs.stanford.edu (downloads.cs.stanford.edu)... 171.64.64.22\n",
      "Conectando con downloads.cs.stanford.edu (downloads.cs.stanford.edu)[171.64.64.22]:80... conectado.\n",
      "Petición HTTP enviada, esperando respuesta... 200 OK\n",
      "Longitud: 862182613 (822M) [application/zip]\n",
      "Guardando como: “glove.6B.zip”\n",
      "\n",
      "glove.6B.zip        100%[===================>] 822,24M  1,25MB/s    en 13m 27s \n",
      "\n",
      "2019-10-24 17:14:04 (1,02 MB/s) - “glove.6B.zip” guardado [862182613/862182613]\n",
      "\n"
     ]
    }
   ],
   "source": [
    "! wget http://nlp.stanford.edu/data/glove.6B.zip"
   ]
  },
  {
   "cell_type": "code",
   "execution_count": 3,
   "metadata": {
    "colab": {},
    "colab_type": "code",
    "id": "2aoTi2n7RQtS"
   },
   "outputs": [
    {
     "name": "stdout",
     "output_type": "stream",
     "text": [
      "Archive:  glove.6B.zip\n",
      "  inflating: glove.6B.50d.txt        \n",
      "  inflating: glove.6B.100d.txt       \n",
      "  inflating: glove.6B.200d.txt       \n",
      "  inflating: glove.6B.300d.txt       \n"
     ]
    }
   ],
   "source": [
    "! unzip glove.6B.zip"
   ]
  },
  {
   "cell_type": "code",
   "execution_count": 4,
   "metadata": {
    "colab": {},
    "colab_type": "code",
    "id": "Z8AzLFXZUTCw"
   },
   "outputs": [],
   "source": [
    "# EMBEDDING_DIR = \"/content/drive/My Drive/\"\n",
    "EMBEDDING_DIR = \"./\"\n"
   ]
  },
  {
   "cell_type": "code",
   "execution_count": 5,
   "metadata": {
    "colab": {},
    "colab_type": "code",
    "id": "AsO8d8w6TxBh"
   },
   "outputs": [],
   "source": [
    "def load_embeddings(file, embed_dim=100):\n",
    "  #load embeddings\n",
    "\n",
    "  print('loading word embeddings...')\n",
    "  embeddings_index = {}\n",
    "  f = codecs.open(EMBEDDING_DIR+'glove.6B.100d.txt', encoding='utf-8')\n",
    "  for line in f:\n",
    "      values = line.rstrip().rsplit(' ')\n",
    "      word = values[0]\n",
    "      coefs = np.asarray(values[1:], dtype='float32')\n",
    "      embeddings_index[word] = coefs\n",
    "  f.close()\n",
    "  print('found %s word vectors' % len(embeddings_index))\n",
    "  return embeddings_index"
   ]
  },
  {
   "cell_type": "code",
   "execution_count": 6,
   "metadata": {
    "colab": {
     "base_uri": "https://localhost:8080/",
     "height": 51
    },
    "colab_type": "code",
    "id": "iG3clQ-EUPV5",
    "outputId": "0b22a678-bdcb-4a29-bac9-f11cb60726cb"
   },
   "outputs": [
    {
     "name": "stdout",
     "output_type": "stream",
     "text": [
      "loading word embeddings...\n",
      "found 400000 word vectors\n"
     ]
    }
   ],
   "source": [
    "# embeddings_index = load_embeddings(EMBEDDING_DIR+'glove.6B.300d.txt', embed_dim=300)\n",
    "embeddings_index = load_embeddings(EMBEDDING_DIR+'glove.6B.100d.txt')"
   ]
  },
  {
   "cell_type": "code",
   "execution_count": null,
   "metadata": {},
   "outputs": [],
   "source": []
  },
  {
   "cell_type": "code",
   "execution_count": 32,
   "metadata": {
    "colab": {},
    "colab_type": "code",
    "id": "Mk9GpdAgWhvl"
   },
   "outputs": [],
   "source": [
    "# Armar matriz de embedigs de 400000x100\n",
    "matrix_word_vectors = np.array(list(embeddings_index.values())) # Se puede armar en una linea haciendo un cast a np.array y un .values del dict\n",
    "# Aramr lista con vocabilario\n",
    "vocab_list = list(embeddings_index.keys()) # Se puede armar con una linea .keys del dict"
   ]
  },
  {
   "cell_type": "code",
   "execution_count": 33,
   "metadata": {
    "colab": {
     "base_uri": "https://localhost:8080/",
     "height": 34
    },
    "colab_type": "code",
    "id": "cHpq6u4wj_mf",
    "outputId": "5641a6aa-712c-4a90-8417-52bae646fb94"
   },
   "outputs": [
    {
     "data": {
      "text/plain": [
       "(400000, 100)"
      ]
     },
     "execution_count": 33,
     "metadata": {},
     "output_type": "execute_result"
    }
   ],
   "source": [
    "matrix_word_vectors.shape"
   ]
  },
  {
   "cell_type": "code",
   "execution_count": 34,
   "metadata": {
    "colab": {},
    "colab_type": "code",
    "id": "rXoyk7t7XHIb"
   },
   "outputs": [],
   "source": [
    "from sklearn.neighbors import NearestNeighbors"
   ]
  },
  {
   "cell_type": "markdown",
   "metadata": {
    "colab_type": "text",
    "id": "VchnyUJYkYUB"
   },
   "source": [
    "# Entrenar un modelo de Nearest neighbours con los 20 primeros y distancia coseno"
   ]
  },
  {
   "cell_type": "code",
   "execution_count": 36,
   "metadata": {
    "colab": {},
    "colab_type": "code",
    "id": "8TLQNKXtX06m"
   },
   "outputs": [],
   "source": [
    "nearest = NearestNeighbors(20, metric='cosine')"
   ]
  },
  {
   "cell_type": "code",
   "execution_count": 37,
   "metadata": {
    "colab": {
     "base_uri": "https://localhost:8080/",
     "height": 68
    },
    "colab_type": "code",
    "id": "9WvK0UfeX5GP",
    "outputId": "8681ea0a-9aee-464f-d303-825d65bd5272"
   },
   "outputs": [
    {
     "data": {
      "text/plain": [
       "NearestNeighbors(algorithm='auto', leaf_size=30, metric='cosine',\n",
       "                 metric_params=None, n_jobs=None, n_neighbors=20, p=2,\n",
       "                 radius=1.0)"
      ]
     },
     "execution_count": 37,
     "metadata": {},
     "output_type": "execute_result"
    }
   ],
   "source": [
    "# Entrenar modelo\n",
    "nearest.fit(matrix_word_vectors)"
   ]
  },
  {
   "cell_type": "code",
   "execution_count": 42,
   "metadata": {},
   "outputs": [
    {
     "data": {
      "text/plain": [
       "array([ 0.59368 ,  0.44825 ,  0.5932  ,  0.074134,  0.11141 ,  1.2793  ,\n",
       "        0.16656 ,  0.2407  ,  0.39045 ,  0.32766 , -0.75034 ,  0.35007 ,\n",
       "        0.76057 ,  0.38067 ,  0.17517 ,  0.031791,  0.46849 , -0.21653 ,\n",
       "       -0.46282 ,  0.39967 ,  0.16623 , -0.011477,  0.044059,  0.30325 ,\n",
       "        0.6153  ,  0.47047 , -0.44036 , -1.5963  ,  0.18433 ,  0.23193 ,\n",
       "        0.20452 ,  0.51617 ,  0.65734 , -0.3452  ,  0.23446 , -0.62004 ,\n",
       "       -0.68741 ,  0.28575 ,  1.0605  ,  0.46916 , -0.85149 ,  0.10154 ,\n",
       "        0.21426 , -0.20587 ,  0.23636 ,  0.21321 , -0.21287 ,  0.12107 ,\n",
       "        0.18766 , -0.23282 , -0.25499 , -0.39631 ,  0.84379 ,  1.6801  ,\n",
       "       -0.40941 , -1.9976  , -0.69868 ,  0.21732 ,  1.2197  ,  0.55126 ,\n",
       "        0.44095 ,  0.72588 , -0.092053, -0.022406,  0.72039 ,  0.1076  ,\n",
       "        0.84116 ,  0.30312 , -0.42544 ,  0.056362,  0.13109 , -0.071181,\n",
       "       -0.10579 ,  0.56677 ,  0.54547 ,  0.84113 ,  0.14861 , -0.62628 ,\n",
       "       -0.68391 , -1.0831  , -0.088385,  0.32167 ,  0.47794 ,  0.091868,\n",
       "       -1.2559  , -1.2268  ,  0.085401,  0.36833 ,  0.081566, -0.76611 ,\n",
       "        0.87751 , -0.22008 ,  0.82401 , -0.092207, -0.45941 ,  0.46571 ,\n",
       "       -0.56018 , -0.54648 ,  0.15162 , -0.30754 ], dtype=float32)"
      ]
     },
     "execution_count": 42,
     "metadata": {},
     "output_type": "execute_result"
    }
   ],
   "source": [
    "embeddings_index['woman']"
   ]
  },
  {
   "cell_type": "code",
   "execution_count": 73,
   "metadata": {
    "colab": {},
    "colab_type": "code",
    "id": "oOQoMzyMjWC0"
   },
   "outputs": [],
   "source": [
    "def get_analogy(word1, word2, word3, embeddings_index=embeddings_index):\n",
    "    # word1 es a word2 como word3 es a word4\n",
    "    # Tiene que devolver word4\n",
    "    embed_word = -embeddings_index[word1] + embeddings_index[word2] + embeddings_index[word3]\n",
    "    distances, nearest_indexes = nearest.kneighbors(embed_word.reshape(1, -1))\n",
    "    nearest_words = [vocab_list[i] for i in nearest_indexes[0]]\n",
    "    if word1 in nearest_words: nearest_words.remove(word1)\n",
    "    if word2 in nearest_words: nearest_words.remove(word2)\n",
    "    if word3 in nearest_words: nearest_words.remove(word3)\n",
    "    return nearest_words"
   ]
  },
  {
   "cell_type": "code",
   "execution_count": 78,
   "metadata": {
    "colab": {},
    "colab_type": "code",
    "id": "deLwGh_zkFbo"
   },
   "outputs": [
    {
     "data": {
      "text/plain": [
       "['andes',\n",
       " 'pyrenees',\n",
       " 'peru',\n",
       " 'argentine',\n",
       " 'foothills',\n",
       " 'apennines',\n",
       " 'brazil',\n",
       " 'portugal',\n",
       " 'patagonia',\n",
       " 'portuguese',\n",
       " 'juniors',\n",
       " 'chaco',\n",
       " 'mountains',\n",
       " 'coast',\n",
       " 'slopes',\n",
       " 'paraguay',\n",
       " 'madeira',\n",
       " 'pampas']"
      ]
     },
     "execution_count": 78,
     "metadata": {},
     "output_type": "execute_result"
    }
   ],
   "source": [
    "# Probar las siguientes analogías\n",
    "#\n",
    "# woman -> man, queen -> ?\n",
    "# england -> london, france-> ?\n",
    "# woman -> women, man -> ?\n",
    "# messi -> soccer, federer -> ?\n",
    "# switzerland -> alps, argentina ->\n",
    "\n",
    "get_analogy('switzerland', 'alps', 'argentina')"
   ]
  },
  {
   "cell_type": "code",
   "execution_count": 81,
   "metadata": {
    "colab": {},
    "colab_type": "code",
    "id": "kQR4OqwrYLVn"
   },
   "outputs": [],
   "source": [
    "def get_nearests_words(vector, nearest=nearest):\n",
    "    # Dado un vector, tiene que devolver la lista de los 20 mas cercanos\n",
    "    distances, nearest_indexes = nearest.kneighbors(vector.reshape(1, -1))\n",
    "    words_list = [vocab_list[i] for i in nearest_indexes[0]] \n",
    "    return words_list"
   ]
  },
  {
   "cell_type": "code",
   "execution_count": 110,
   "metadata": {
    "colab": {},
    "colab_type": "code",
    "id": "FgWBU9zJlIPT"
   },
   "outputs": [
    {
     "data": {
      "text/plain": [
       "['engineer',\n",
       " 'musician',\n",
       " 'scientist',\n",
       " 'consultant',\n",
       " 'author',\n",
       " 'professor',\n",
       " 'director',\n",
       " 'dr.',\n",
       " 'writer',\n",
       " 'worked',\n",
       " 'doctor',\n",
       " 'teacher',\n",
       " 'artist',\n",
       " 'educator',\n",
       " 'physician',\n",
       " 'researcher',\n",
       " 'economist',\n",
       " 'expert',\n",
       " 'friend',\n",
       " 'composer']"
      ]
     },
     "execution_count": 110,
     "metadata": {},
     "output_type": "execute_result"
    }
   ],
   "source": [
    "# Probar función get_nearests_words\n",
    "get_nearests_words(embeddings_index['doctor'] + embeddings_index['engineer'] + embeddings_index['economist']+ embeddings_index['musician'])"
   ]
  },
  {
   "cell_type": "code",
   "execution_count": 83,
   "metadata": {
    "colab": {},
    "colab_type": "code",
    "id": "DILrgwaRYVLu"
   },
   "outputs": [],
   "source": [
    "animals = ['dog',\n",
    " 'cat',\n",
    " 'dogs',\n",
    " 'pet',\n",
    " 'puppy',\n",
    " 'horse',\n",
    " 'animal',\n",
    " 'pig',\n",
    " 'boy',\n",
    " 'cats',\n",
    " 'rabbit',\n",
    " 'goat',\n",
    " 'sled',\n",
    " 'monkey',\n",
    " 'cow',\n",
    " 'rat',\n",
    " 'breed',\n",
    " 'mad',\n",
    " 'hound',\n",
    " 'bird']"
   ]
  },
  {
   "cell_type": "code",
   "execution_count": 84,
   "metadata": {
    "colab": {},
    "colab_type": "code",
    "id": "oYFVs9ipnbbF"
   },
   "outputs": [],
   "source": [
    "transport = ['car',\n",
    " 'vehicle',\n",
    " 'truck',\n",
    " 'cars',\n",
    " 'driver',\n",
    " 'driving',\n",
    " 'motorcycle',\n",
    " 'vehicles',\n",
    " 'parked',\n",
    " 'bus',\n",
    " 'taxi',\n",
    " 'suv',\n",
    " 'pickup',\n",
    " 'jeep',\n",
    " 'mercedes',\n",
    " 'cab',\n",
    " 'bicycle',\n",
    " 'drivers',\n",
    " 'automobile',\n",
    " 'train']"
   ]
  },
  {
   "cell_type": "code",
   "execution_count": 85,
   "metadata": {
    "colab": {},
    "colab_type": "code",
    "id": "yg9C7itHnhte"
   },
   "outputs": [],
   "source": [
    "countries = ['argentina',\n",
    " 'england',\n",
    " 'australia',\n",
    " 'spain',\n",
    " 'brazil',\n",
    " 'portugal',\n",
    " 'zealand',\n",
    " 'scotland',\n",
    " 'match',\n",
    " 'africa',\n",
    " 'wales',\n",
    " 'ireland',\n",
    " 'italy',\n",
    " 'matches',\n",
    " 'france',\n",
    " 'indies',\n",
    " 'uruguay',\n",
    " 'britain',\n",
    " 'netherlands',\n",
    " 'united']"
   ]
  },
  {
   "cell_type": "code",
   "execution_count": 86,
   "metadata": {
    "colab": {},
    "colab_type": "code",
    "id": "7GWSToprnOxe"
   },
   "outputs": [],
   "source": [
    "professions = ['engineer',\n",
    " 'scientist',\n",
    " 'economist',\n",
    " 'professor',\n",
    " 'consultant',\n",
    " 'director',\n",
    " 'dr.',\n",
    " 'doctor',\n",
    " 'researcher',\n",
    " 'expert',\n",
    " 'physician',\n",
    " 'officer',\n",
    " 'surgeon',\n",
    " 'chief',\n",
    " 'assistant',\n",
    " 'specialist',\n",
    " 'associate',\n",
    " 'author',\n",
    " 'worked',\n",
    " 'psychologist']"
   ]
  },
  {
   "cell_type": "code",
   "execution_count": 87,
   "metadata": {
    "colab": {},
    "colab_type": "code",
    "id": "q7yBjxNNn07R"
   },
   "outputs": [],
   "source": [
    "all_words = animals + transport + countries + professions"
   ]
  },
  {
   "cell_type": "code",
   "execution_count": 88,
   "metadata": {
    "colab": {},
    "colab_type": "code",
    "id": "LMhEWApEoV_h"
   },
   "outputs": [],
   "source": [
    "vectors_subset = np.array([embeddings_index[word] for word in all_words])"
   ]
  },
  {
   "cell_type": "code",
   "execution_count": 89,
   "metadata": {
    "colab": {},
    "colab_type": "code",
    "id": "7rOSh6UOoLPX"
   },
   "outputs": [],
   "source": [
    "from sklearn.manifold import TSNE"
   ]
  },
  {
   "cell_type": "code",
   "execution_count": 90,
   "metadata": {
    "colab": {},
    "colab_type": "code",
    "id": "GhLy6ekooxkK"
   },
   "outputs": [],
   "source": [
    "tsne = TSNE(2, verbose=1)"
   ]
  },
  {
   "cell_type": "code",
   "execution_count": 94,
   "metadata": {
    "colab": {
     "base_uri": "https://localhost:8080/",
     "height": 170
    },
    "colab_type": "code",
    "id": "6-SH_MWXo0MA",
    "outputId": "b320bd0a-289e-40bc-e592-7522f09a49c4"
   },
   "outputs": [
    {
     "name": "stdout",
     "output_type": "stream",
     "text": [
      "[t-SNE] Computing 79 nearest neighbors...\n",
      "[t-SNE] Indexed 80 samples in 0.000s...\n",
      "[t-SNE] Computed neighbors for 80 samples in 0.002s...\n",
      "[t-SNE] Computed conditional probabilities for sample 80 / 80\n",
      "[t-SNE] Mean sigma: 3.172693\n",
      "[t-SNE] KL divergence after 250 iterations with early exaggeration: 55.538227\n",
      "[t-SNE] KL divergence after 1000 iterations: 0.239502\n",
      "CPU times: user 552 ms, sys: 385 ms, total: 937 ms\n",
      "Wall time: 228 ms\n"
     ]
    }
   ],
   "source": [
    "%time embed_2d_tsne = tsne.fit_transform(vectors_subset)"
   ]
  },
  {
   "cell_type": "code",
   "execution_count": 95,
   "metadata": {
    "colab": {},
    "colab_type": "code",
    "id": "refMfFQqo3-3"
   },
   "outputs": [],
   "source": [
    "from matplotlib import pyplot as plt"
   ]
  },
  {
   "cell_type": "code",
   "execution_count": 96,
   "metadata": {
    "colab": {},
    "colab_type": "code",
    "id": "tpYyqyQTo-RU"
   },
   "outputs": [
    {
     "data": {
      "image/png": "[encoded data removed]",
      "text/plain": [
       "<Figure size 432x288 with 1 Axes>"
      ]
     },
     "metadata": {
      "needs_background": "light"
     },
     "output_type": "display_data"
    }
   ],
   "source": [
    "for i in range(4):\n",
    "  plt.scatter(embed_2d_tsne[i*20:(i+1)*20,0], embed_2d_tsne[i*20:(i+1)*20,1], c=f'C{i}')"
   ]
  },
  {
   "cell_type": "code",
   "execution_count": null,
   "metadata": {
    "colab": {},
    "colab_type": "code",
    "id": "ITTs5oXipFtB"
   },
   "outputs": [],
   "source": []
  }
 ],
 "metadata": {
  "colab": {
   "include_colab_link": true,
   "name": "06-glove_tests.ipynb",
   "provenance": []
  },
  "kernelspec": {
   "display_name": "Python 3",
   "language": "python",
   "name": "python3"
  },
  "language_info": {
   "codemirror_mode": {
    "name": "ipython",
    "version": 3
   },
   "file_extension": ".py",
   "mimetype": "text/x-python",
   "name": "python",
   "nbconvert_exporter": "python",
   "pygments_lexer": "ipython3",
   "version": "3.6.8"
  }
 },
 "nbformat": 4,
 "nbformat_minor": 2
}
