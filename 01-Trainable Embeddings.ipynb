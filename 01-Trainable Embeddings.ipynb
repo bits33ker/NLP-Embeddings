{
  "nbformat": 4,
  "nbformat_minor": 0,
  "metadata": {
    "accelerator": "GPU",
    "colab": {
      "name": "Trainable Embeddings.ipynb",
      "provenance": []
    },
    "kernelspec": {
      "display_name": "Python 3",
      "language": "python",
      "name": "python3"
    },
    "language_info": {
      "codemirror_mode": {
        "name": "ipython",
        "version": 3
      },
      "file_extension": ".py",
      "mimetype": "text/x-python",
      "name": "python",
      "nbconvert_exporter": "python",
      "pygments_lexer": "ipython3",
      "version": "3.7.3"
    }
  },
  "cells": [
    {
      "cell_type": "code",
      "metadata": {
        "id": "8w8DRjGAHzyG",
        "colab_type": "code",
        "colab": {}
      },
      "source": [
        "# Usar keras 2.2.5\n",
        "# conda install -c conda-forge keras=2.2.5"
      ],
      "execution_count": 0,
      "outputs": []
    },
    {
      "cell_type": "code",
      "metadata": {
        "id": "rnLq6p7aHzyK",
        "colab_type": "code",
        "colab": {
          "base_uri": "https://localhost:8080/",
          "height": 34
        },
        "outputId": "969aa0df-0af3-482a-a436-5b7d14684b0c"
      },
      "source": [
        "import keras\n",
        "keras.__version__"
      ],
      "execution_count": 20,
      "outputs": [
        {
          "output_type": "execute_result",
          "data": {
            "text/plain": [
              "'2.2.5'"
            ]
          },
          "metadata": {
            "tags": []
          },
          "execution_count": 20
        }
      ]
    },
    {
      "cell_type": "code",
      "metadata": {
        "id": "l6qXmkzsHzyO",
        "colab_type": "code",
        "colab": {
          "base_uri": "https://localhost:8080/",
          "height": 34
        },
        "outputId": "e09bff1f-3721-4ed6-bee4-c9209fe9255e"
      },
      "source": [
        "import numpy as np\n",
        "np.__version__"
      ],
      "execution_count": 21,
      "outputs": [
        {
          "output_type": "execute_result",
          "data": {
            "text/plain": [
              "'1.16.5'"
            ]
          },
          "metadata": {
            "tags": []
          },
          "execution_count": 21
        }
      ]
    },
    {
      "cell_type": "code",
      "metadata": {
        "colab_type": "code",
        "id": "0KnibsN1xUk3",
        "colab": {}
      },
      "source": [
        "#from keras.datasets import imdb as dataset\n",
        "from keras.datasets import reuters as dataset\n",
        "from keras.preprocessing.sequence import pad_sequences\n",
        "import numpy as np"
      ],
      "execution_count": 0,
      "outputs": []
    },
    {
      "cell_type": "markdown",
      "metadata": {
        "id": "AvpowIEOHzyT",
        "colab_type": "text"
      },
      "source": [
        "# Cargamos y analizamos el dataset"
      ]
    },
    {
      "cell_type": "code",
      "metadata": {
        "id": "n4ra2gF4HzyU",
        "colab_type": "code",
        "colab": {
          "base_uri": "https://localhost:8080/",
          "height": 51
        },
        "outputId": "6faab550-91cb-4070-a45f-f158173e9168"
      },
      "source": [
        "# Primer hyperparámetro\n",
        "num_words=30000\n",
        "\n",
        "(training_data, training_targets), (testing_data, testing_targets) = dataset.load_data(num_words=num_words+2)\n",
        "data = np.concatenate((training_data, testing_data), axis=0)\n",
        "targets = np.concatenate((training_targets, testing_targets), axis=0)"
      ],
      "execution_count": 66,
      "outputs": [
        {
          "output_type": "stream",
          "text": [
            "Downloading data from https://s3.amazonaws.com/text-datasets/reuters.npz\n",
            "2113536/2110848 [==============================] - 1s 0us/step\n"
          ],
          "name": "stdout"
        }
      ]
    },
    {
      "cell_type": "code",
      "metadata": {
        "colab_type": "code",
        "id": "EYWTLfB1xUlI",
        "outputId": "d0caa04d-93c0-4282-8de4-d7dde9a404a4",
        "colab": {
          "base_uri": "https://localhost:8080/",
          "height": 68
        }
      },
      "source": [
        "# Tengo dos categorías: Sentimiento positivo (1) o sentimiento negativo (0)\n",
        "num_categories = len(np.unique(targets))\n",
        "print(\"Categories:\", np.unique(targets))\n",
        "# Tengo num_words palabras únicas en el vocabulario\n",
        "print(\"Number of unique words:\", len(np.unique(np.hstack(data))))"
      ],
      "execution_count": 89,
      "outputs": [
        {
          "output_type": "stream",
          "text": [
            "Categories: [ 0  1  2  3  4  5  6  7  8  9 10 11 12 13 14 15 16 17 18 19 20 21 22 23\n",
            " 24 25 26 27 28 29 30 31 32 33 34 35 36 37 38 39 40 41 42 43 44 45]\n",
            "Number of unique words: 29990\n"
          ],
          "name": "stdout"
        }
      ]
    },
    {
      "cell_type": "code",
      "metadata": {
        "colab_type": "code",
        "id": "3lZ-DUxtxUlT",
        "outputId": "aada7fb5-718a-4ac4-fdf5-48ab5e8283c7",
        "colab": {
          "base_uri": "https://localhost:8080/",
          "height": 51
        }
      },
      "source": [
        "# Longitudes promedio de los comentarios de las películas\n",
        "length = [len(i) for i in data]\n",
        "print(\"Average Review length:\", np.mean(length))\n",
        "print(\"Standard Deviation:\", round(np.std(length)))"
      ],
      "execution_count": 68,
      "outputs": [
        {
          "output_type": "stream",
          "text": [
            "Average Review length: 145.96419665122906\n",
            "Standard Deviation: 146.0\n"
          ],
          "name": "stdout"
        }
      ]
    },
    {
      "cell_type": "markdown",
      "metadata": {
        "id": "DGeDrxcRHzya",
        "colab_type": "text"
      },
      "source": [
        "# Impresión de comentario preprocesado con su etiqueta"
      ]
    },
    {
      "cell_type": "code",
      "metadata": {
        "colab_type": "code",
        "id": "qnT33-acxUlZ",
        "outputId": "91b1365d-1b93-42c7-9337-7dbb6dafff31",
        "colab": {
          "base_uri": "https://localhost:8080/",
          "height": 71
        }
      },
      "source": [
        "# Imprimo cometario i'esimo con su clasificación de sentimiento\n",
        "i = 0\n",
        "print(\"Label:\", targets[i])\n",
        "# Las comentarios ya están preprocesados\n",
        "print(data[i])"
      ],
      "execution_count": 69,
      "outputs": [
        {
          "output_type": "stream",
          "text": [
            "Label: 3\n",
            "[1, 27595, 28842, 8, 43, 10, 447, 5, 25, 207, 270, 5, 3095, 111, 16, 369, 186, 90, 67, 7, 89, 5, 19, 102, 6, 19, 124, 15, 90, 67, 84, 22, 482, 26, 7, 48, 4, 49, 8, 864, 39, 209, 154, 6, 151, 6, 83, 11, 15, 22, 155, 11, 15, 7, 48, 9, 4579, 1005, 504, 6, 258, 6, 272, 11, 15, 22, 134, 44, 11, 15, 16, 8, 197, 1245, 90, 67, 52, 29, 209, 30, 32, 132, 6, 109, 15, 17, 12]\n"
          ],
          "name": "stdout"
        }
      ]
    },
    {
      "cell_type": "code",
      "metadata": {
        "colab_type": "code",
        "id": "GSVq9thIxUlh",
        "outputId": "78aac21e-796b-424f-b970-799710b69cb9",
        "colab": {
          "base_uri": "https://localhost:8080/",
          "height": 88
        }
      },
      "source": [
        "# Bajamos diccionario de palabras a indices\n",
        "index = dataset.get_word_index()\n",
        "print([f'{k}:{v}' for k,v in index.items()][:100])"
      ],
      "execution_count": 71,
      "outputs": [
        {
          "output_type": "stream",
          "text": [
            "Downloading data from https://s3.amazonaws.com/text-datasets/reuters_word_index.json\n",
            "557056/550378 [==============================] - 0s 1us/step\n",
            "['mdbl:10996', 'fawc:16260', 'degussa:12089', 'woods:8803', 'hanging:13796', 'localized:20672', 'sation:20673', 'chanthaburi:20675', 'refunding:10997', 'hermann:8804', 'passsengers:20676', 'stipulate:20677', 'heublein:8352', 'screaming:20713', 'tcby:16261', 'four:185', 'grains:1642', 'broiler:20680', 'wooden:12090', 'wednesday:1220', 'highveld:13797', 'duffour:7593', '0053:20681', 'elections:3914', '270:2563', '271:3551', '272:5113', '273:3552', '274:3400', 'rudman:7975', '276:3401', '277:3478', '278:3632', '279:4309', 'dormancy:9381', 'errors:7247', 'deferred:3086', 'sptnd:20683', 'cooking:8805', 'stratabit:20684', 'designing:16262', 'metalurgicos:20685', 'databank:13798', '300er:20686', 'shocks:20687', 'nawg:7972', 'tnta:20688', 'perforations:20689', 'affiliates:2891', '27p:20690', 'ching:16263', 'china:595', 'wagyu:16264', 'affiliated:3189', 'chino:16265', 'chinh:16266', 'slickline:20692', 'doldrums:13799', 'kids:12092', 'climbed:3028', 'controversy:6693', 'kidd:20693', 'spotty:12093', 'rebel:12639', 'millimetres:9382', 'golden:4007', 'projection:5689', 'stern:12094', \"hudson's:7903\", 'dna:10066', 'dnc:20695', 'hodler:20696', 'lme:2394', 'insolvancy:20697', 'music:13800', 'therefore:1984', 'dns:10998', 'distortions:6959', 'thassos:13801', 'populations:20698', 'meteorologist:8806', 'loss:43', 'exco:9383', 'adventist:20813', 'murchison:16267', 'locked:10999', 'kampala:13802', 'arndt:20699', 'nakasone:1267', 'steinweg:20700', \"india's:3633\", 'wang:3029', 'wane:10067', 'unjust:13803', 'titanium:13804', 'want:850', 'pinto:20701', \"institutes':16268\", 'absolute:7973', 'travel:4677']\n"
          ],
          "name": "stdout"
        }
      ]
    },
    {
      "cell_type": "code",
      "metadata": {
        "id": "xrmkTbXyHzyf",
        "colab_type": "code",
        "colab": {
          "base_uri": "https://localhost:8080/",
          "height": 54
        },
        "outputId": "b7768ed4-a2c3-4666-9b72-6d02b93a1022"
      },
      "source": [
        "# Armo diccionario reverso: de indices a palabras\n",
        "reverse_index = dict([(value, key) for (key, value) in index.items()]) \n",
        "print([f'{k}:{v}' for k,v in reverse_index.items()][:100])"
      ],
      "execution_count": 72,
      "outputs": [
        {
          "output_type": "stream",
          "text": [
            "['10996:mdbl', '16260:fawc', '12089:degussa', '8803:woods', '13796:hanging', '20672:localized', '20673:sation', '20675:chanthaburi', '10997:refunding', '8804:hermann', '20676:passsengers', '20677:stipulate', '8352:heublein', '20713:screaming', '16261:tcby', '185:four', '1642:grains', '20680:broiler', '12090:wooden', '1220:wednesday', '13797:highveld', '7593:duffour', '20681:0053', '3914:elections', '2563:270', '3551:271', '5113:272', '3552:273', '3400:274', '7975:rudman', '3401:276', '3478:277', '3632:278', '4309:279', '9381:dormancy', '7247:errors', '3086:deferred', '20683:sptnd', '8805:cooking', '20684:stratabit', '16262:designing', '20685:metalurgicos', '13798:databank', '20686:300er', '20687:shocks', '7972:nawg', '20688:tnta', '20689:perforations', '2891:affiliates', '20690:27p', '16263:ching', '595:china', '16264:wagyu', '3189:affiliated', '16265:chino', '16266:chinh', '20692:slickline', '13799:doldrums', '12092:kids', '3028:climbed', '6693:controversy', '20693:kidd', '12093:spotty', '12639:rebel', '9382:millimetres', '4007:golden', '5689:projection', '12094:stern', \"7903:hudson's\", '10066:dna', '20695:dnc', '20696:hodler', '2394:lme', '20697:insolvancy', '13800:music', '1984:therefore', '10998:dns', '6959:distortions', '13801:thassos', '20698:populations', '8806:meteorologist', '43:loss', '9383:exco', '20813:adventist', '16267:murchison', '10999:locked', '13802:kampala', '20699:arndt', '1267:nakasone', '20700:steinweg', \"3633:india's\", '3029:wang', '10067:wane', '13803:unjust', '13804:titanium', '850:want', '20701:pinto', \"16268:institutes'\", '7973:absolute', '4677:travel']\n"
          ],
          "name": "stdout"
        }
      ]
    },
    {
      "cell_type": "code",
      "metadata": {
        "id": "Lhq6d5MWHzyi",
        "colab_type": "code",
        "colab": {
          "base_uri": "https://localhost:8080/",
          "height": 88
        },
        "outputId": "da33f31c-3701-484d-80de-9a7b2eac2b76"
      },
      "source": [
        "decoded = \" \".join( [reverse_index.get(i - 3, \"#\") for i in data[1]] )\n",
        "print(data[1])\n",
        "print()\n",
        "print(decoded)"
      ],
      "execution_count": 73,
      "outputs": [
        {
          "output_type": "stream",
          "text": [
            "[1, 3267, 699, 3434, 2295, 56, 16784, 7511, 9, 56, 3906, 1073, 81, 5, 1198, 57, 366, 737, 132, 20, 4093, 7, 19261, 49, 2295, 13415, 1037, 3267, 699, 3434, 8, 7, 10, 241, 16, 855, 129, 231, 783, 5, 4, 587, 2295, 13415, 2, 775, 7, 48, 34, 191, 44, 35, 1795, 505, 17, 12]\n",
            "\n",
            "# generale de banque sa lt genb br and lt heller overseas corp of chicago have each taken 50 pct stakes in factoring company sa belgo factors generale de banque said in a statement it gave no financial details of the transaction sa belgo # turnover in 1986 was 17 5 billion belgian francs reuter 3\n"
          ],
          "name": "stdout"
        }
      ]
    },
    {
      "cell_type": "markdown",
      "metadata": {
        "id": "RBL_1v2eHzym",
        "colab_type": "text"
      },
      "source": [
        "# Padding y formateo de data para entrenar"
      ]
    },
    {
      "cell_type": "code",
      "metadata": {
        "colab_type": "code",
        "id": "HifepVsJxUlo",
        "colab": {}
      },
      "source": [
        "# Hyperparametro - Longitud máxima de comentario\n",
        "maxlen=1000"
      ],
      "execution_count": 0,
      "outputs": []
    },
    {
      "cell_type": "code",
      "metadata": {
        "colab_type": "code",
        "id": "Tb8Mf33exUlu",
        "colab": {}
      },
      "source": [
        "data = pad_sequences(data,maxlen=maxlen)"
      ],
      "execution_count": 0,
      "outputs": []
    },
    {
      "cell_type": "code",
      "metadata": {
        "colab_type": "code",
        "id": "Fq-c12e5xUl8",
        "outputId": "93c4b897-9904-4606-eacd-01ecfea9f762",
        "colab": {
          "base_uri": "https://localhost:8080/",
          "height": 51
        }
      },
      "source": [
        "# Verificamos que todos tengan longitud 1000\n",
        "print(len(data[0]))\n",
        "print(np.array([len(d) for d in data]).var())"
      ],
      "execution_count": 76,
      "outputs": [
        {
          "output_type": "stream",
          "text": [
            "1000\n",
            "0.0\n"
          ],
          "name": "stdout"
        }
      ]
    },
    {
      "cell_type": "code",
      "metadata": {
        "colab_type": "code",
        "id": "jXBIUZaNxUmD",
        "colab": {}
      },
      "source": [
        "data=np.array(data)"
      ],
      "execution_count": 0,
      "outputs": []
    },
    {
      "cell_type": "code",
      "metadata": {
        "colab_type": "code",
        "id": "_Gwma-IqxUmK",
        "outputId": "272b40d3-2df0-46a0-800e-6b46239c3a9a",
        "colab": {
          "base_uri": "https://localhost:8080/",
          "height": 34
        }
      },
      "source": [
        "data.shape"
      ],
      "execution_count": 78,
      "outputs": [
        {
          "output_type": "execute_result",
          "data": {
            "text/plain": [
              "(11228, 1000)"
            ]
          },
          "metadata": {
            "tags": []
          },
          "execution_count": 78
        }
      ]
    },
    {
      "cell_type": "markdown",
      "metadata": {
        "id": "8bplIZHWNUXo",
        "colab_type": "text"
      },
      "source": [
        "# Armar una MLP con one-hot encoding para resolver el problema"
      ]
    },
    {
      "cell_type": "code",
      "metadata": {
        "id": "MQ51AMr2Nbok",
        "colab_type": "code",
        "colab": {}
      },
      "source": [
        "from keras.layers import Dense\n",
        "from keras.models import Sequential"
      ],
      "execution_count": 0,
      "outputs": []
    },
    {
      "cell_type": "code",
      "metadata": {
        "id": "YV5eg2fDNdtk",
        "colab_type": "code",
        "colab": {}
      },
      "source": [
        "# usar maxlen y num_words para calcular la entrada\n",
        "# Utilizar una sola capa\n",
        "model = Sequential()\n",
        "## TODO\n",
        "salida_densa = # Completar\n",
        "input_shape = # Completar\n",
        "model.add(Dense(salida_densa, input_shape=input_shape, activation=''))"
      ],
      "execution_count": 0,
      "outputs": []
    },
    {
      "cell_type": "code",
      "metadata": {
        "id": "PXqCIIv6OWe8",
        "colab_type": "code",
        "colab": {
          "base_uri": "https://localhost:8080/",
          "height": 187
        },
        "outputId": "8ba007ab-f705-4a05-8ffa-e28730eb246a"
      },
      "source": [
        "model.summary()"
      ],
      "execution_count": 49,
      "outputs": [
        {
          "output_type": "stream",
          "text": [
            "Model: \"sequential_10\"\n",
            "_________________________________________________________________\n",
            "Layer (type)                 Output Shape              Param #   \n",
            "=================================================================\n",
            "dense_10 (Dense)             (None, 1)                 30000001  \n",
            "=================================================================\n",
            "Total params: 30,000,001\n",
            "Trainable params: 30,000,001\n",
            "Non-trainable params: 0\n",
            "_________________________________________________________________\n"
          ],
          "name": "stdout"
        }
      ]
    },
    {
      "cell_type": "markdown",
      "metadata": {
        "id": "h-RLYV5QPBEX",
        "colab_type": "text"
      },
      "source": [
        "## ¿Por que no es viable esta red?"
      ]
    },
    {
      "cell_type": "markdown",
      "metadata": {
        "id": "bnvzV5wiPKjs",
        "colab_type": "text"
      },
      "source": [
        "# Armar una MLP usando Embeddings"
      ]
    },
    {
      "cell_type": "code",
      "metadata": {
        "id": "ecjdmUczPIVf",
        "colab_type": "code",
        "colab": {}
      },
      "source": [
        "from keras.layers import Embedding, Flatten, Dropout\n",
        "from keras import optimizers"
      ],
      "execution_count": 0,
      "outputs": []
    },
    {
      "cell_type": "code",
      "metadata": {
        "id": "OPTlDXslPO0o",
        "colab_type": "code",
        "colab": {}
      },
      "source": [
        "nb_words=num_words+3\n",
        "embed_dim=32\n",
        "model = Sequential()\n",
        "model.add(Embedding(nb_words, embed_dim, input_length=maxlen, trainable=True))\n",
        "model.add(Flatten())\n",
        "model.add(Dropout(0.5))\n",
        "model.add(Dense(num_categories, activation='softmax'))"
      ],
      "execution_count": 0,
      "outputs": []
    },
    {
      "cell_type": "code",
      "metadata": {
        "id": "qTs8XKCLPVqX",
        "colab_type": "code",
        "colab": {
          "base_uri": "https://localhost:8080/",
          "height": 289
        },
        "outputId": "e61b1ec2-1162-45b9-a319-0c2f6c1ff12f"
      },
      "source": [
        "model.summary()"
      ],
      "execution_count": 101,
      "outputs": [
        {
          "output_type": "stream",
          "text": [
            "Model: \"sequential_21\"\n",
            "_________________________________________________________________\n",
            "Layer (type)                 Output Shape              Param #   \n",
            "=================================================================\n",
            "embedding_13 (Embedding)     (None, 1000, 32)          960096    \n",
            "_________________________________________________________________\n",
            "flatten_8 (Flatten)          (None, 32000)             0         \n",
            "_________________________________________________________________\n",
            "dropout_5 (Dropout)          (None, 32000)             0         \n",
            "_________________________________________________________________\n",
            "dense_20 (Dense)             (None, 46)                1472046   \n",
            "=================================================================\n",
            "Total params: 2,432,142\n",
            "Trainable params: 2,432,142\n",
            "Non-trainable params: 0\n",
            "_________________________________________________________________\n"
          ],
          "name": "stdout"
        }
      ]
    },
    {
      "cell_type": "code",
      "metadata": {
        "id": "J6bygoYSP1PW",
        "colab_type": "code",
        "colab": {}
      },
      "source": [
        "adam = optimizers.Adam(lr=0.001, beta_1=0.9, beta_2=0.999, epsilon=1e-08, decay=0.0)\n",
        "model.compile(loss='sparse_categorical_crossentropy', optimizer=adam, metrics=['accuracy'])"
      ],
      "execution_count": 0,
      "outputs": []
    },
    {
      "cell_type": "code",
      "metadata": {
        "id": "U4tv5kkjPuaj",
        "colab_type": "code",
        "colab": {
          "base_uri": "https://localhost:8080/",
          "height": 221
        },
        "outputId": "c5272f8c-c812-4f3b-f3a9-c632cc015307"
      },
      "source": [
        "model.fit(data,targets,batch_size=32,epochs=5,validation_split=0.2)"
      ],
      "execution_count": 103,
      "outputs": [
        {
          "output_type": "stream",
          "text": [
            "Train on 8982 samples, validate on 2246 samples\n",
            "Epoch 1/5\n",
            "8982/8982 [==============================] - 3s 376us/step - loss: 2.0105 - acc: 0.4865 - val_loss: 1.6706 - val_acc: 0.5833\n",
            "Epoch 2/5\n",
            "8982/8982 [==============================] - 3s 281us/step - loss: 1.2627 - acc: 0.6961 - val_loss: 1.3752 - val_acc: 0.6843\n",
            "Epoch 3/5\n",
            "8982/8982 [==============================] - 3s 283us/step - loss: 0.7429 - acc: 0.8327 - val_loss: 1.2737 - val_acc: 0.7039\n",
            "Epoch 4/5\n",
            "8982/8982 [==============================] - 3s 285us/step - loss: 0.4814 - acc: 0.8979 - val_loss: 1.2611 - val_acc: 0.7142\n",
            "Epoch 5/5\n",
            "8982/8982 [==============================] - 3s 288us/step - loss: 0.3330 - acc: 0.9326 - val_loss: 1.2802 - val_acc: 0.7088\n"
          ],
          "name": "stdout"
        },
        {
          "output_type": "execute_result",
          "data": {
            "text/plain": [
              "<keras.callbacks.History at 0x7fb72d54c240>"
            ]
          },
          "metadata": {
            "tags": []
          },
          "execution_count": 103
        }
      ]
    },
    {
      "cell_type": "markdown",
      "metadata": {
        "id": "hNPXfSxWQRI3",
        "colab_type": "text"
      },
      "source": [
        "# Armar una CNN"
      ]
    },
    {
      "cell_type": "code",
      "metadata": {
        "colab_type": "code",
        "id": "f-nF8yjmxUmQ",
        "outputId": "09a7bcfb-a14b-4282-c9d4-881780d2cdae",
        "colab": {
          "base_uri": "https://localhost:8080/",
          "height": 391
        }
      },
      "source": [
        "from keras.layers import Embedding, Conv1D, MaxPooling1D, GlobalMaxPooling1D, Dropout, Dense\n",
        "\n",
        "from keras import optimizers\n",
        "nb_words=num_words+3\n",
        "embed_dim=32\n",
        "num_filters=64\n",
        "model = Sequential()\n",
        "model.add(Embedding(nb_words, embed_dim, input_length=maxlen, trainable=True))\n",
        "model.add(Conv1D(num_filters, 7, activation='relu', padding='same'))\n",
        "model.add(MaxPooling1D(2))\n",
        "model.add(Conv1D(num_filters*2, 7, activation='relu', padding='same'))\n",
        "model.add(GlobalMaxPooling1D())\n",
        "model.add(Dropout(0.5))\n",
        "# model.add(Dense(32, activation='relu'))\n",
        "model.add(Dense(num_categories, activation='sigmoid'))\n",
        "\n",
        "adam = optimizers.Adam(lr=0.001, beta_1=0.9, beta_2=0.999, epsilon=1e-08, decay=0.0)\n",
        "model.compile(loss='sparse_categorical_crossentropy', optimizer=adam, metrics=['accuracy'])\n",
        "model.summary()"
      ],
      "execution_count": 97,
      "outputs": [
        {
          "output_type": "stream",
          "text": [
            "Model: \"sequential_20\"\n",
            "_________________________________________________________________\n",
            "Layer (type)                 Output Shape              Param #   \n",
            "=================================================================\n",
            "embedding_12 (Embedding)     (None, 1000, 32)          960096    \n",
            "_________________________________________________________________\n",
            "conv1d_7 (Conv1D)            (None, 1000, 64)          14400     \n",
            "_________________________________________________________________\n",
            "max_pooling1d_4 (MaxPooling1 (None, 500, 64)           0         \n",
            "_________________________________________________________________\n",
            "conv1d_8 (Conv1D)            (None, 500, 128)          57472     \n",
            "_________________________________________________________________\n",
            "global_max_pooling1d_4 (Glob (None, 128)               0         \n",
            "_________________________________________________________________\n",
            "dropout_4 (Dropout)          (None, 128)               0         \n",
            "_________________________________________________________________\n",
            "dense_19 (Dense)             (None, 46)                5934      \n",
            "=================================================================\n",
            "Total params: 1,037,902\n",
            "Trainable params: 1,037,902\n",
            "Non-trainable params: 0\n",
            "_________________________________________________________________\n"
          ],
          "name": "stdout"
        }
      ]
    },
    {
      "cell_type": "code",
      "metadata": {
        "colab_type": "code",
        "id": "AzXyAjAvxUmW",
        "outputId": "b4bd9474-6456-4afb-875e-89e53dea2a75",
        "colab": {
          "base_uri": "https://localhost:8080/",
          "height": 391
        }
      },
      "source": [
        "model.fit(data,targets,batch_size=32,epochs=10,validation_split=0.2)"
      ],
      "execution_count": 98,
      "outputs": [
        {
          "output_type": "stream",
          "text": [
            "Train on 8982 samples, validate on 2246 samples\n",
            "Epoch 1/10\n",
            "8982/8982 [==============================] - 6s 644us/step - loss: 2.5247 - acc: 0.2846 - val_loss: 2.0328 - val_acc: 0.2124\n",
            "Epoch 2/10\n",
            "8982/8982 [==============================] - 5s 538us/step - loss: 1.8287 - acc: 0.4686 - val_loss: 1.5971 - val_acc: 0.5886\n",
            "Epoch 3/10\n",
            "8982/8982 [==============================] - 5s 539us/step - loss: 1.4303 - acc: 0.6234 - val_loss: 1.4240 - val_acc: 0.6367\n",
            "Epoch 4/10\n",
            "8982/8982 [==============================] - 5s 538us/step - loss: 1.2091 - acc: 0.6684 - val_loss: 1.3582 - val_acc: 0.6567\n",
            "Epoch 5/10\n",
            "8982/8982 [==============================] - 5s 542us/step - loss: 1.0431 - acc: 0.7067 - val_loss: 1.3557 - val_acc: 0.6723\n",
            "Epoch 6/10\n",
            "8982/8982 [==============================] - 5s 535us/step - loss: 0.9104 - acc: 0.7456 - val_loss: 1.3416 - val_acc: 0.6852\n",
            "Epoch 7/10\n",
            "8982/8982 [==============================] - 5s 534us/step - loss: 0.7779 - acc: 0.7802 - val_loss: 1.3005 - val_acc: 0.7053\n",
            "Epoch 8/10\n",
            "8982/8982 [==============================] - 5s 534us/step - loss: 0.6843 - acc: 0.8128 - val_loss: 1.3245 - val_acc: 0.7079\n",
            "Epoch 9/10\n",
            "8982/8982 [==============================] - 5s 536us/step - loss: 0.5946 - acc: 0.8337 - val_loss: 1.3230 - val_acc: 0.7275\n",
            "Epoch 10/10\n",
            "8982/8982 [==============================] - 5s 538us/step - loss: 0.5326 - acc: 0.8538 - val_loss: 1.3261 - val_acc: 0.7186\n"
          ],
          "name": "stdout"
        },
        {
          "output_type": "execute_result",
          "data": {
            "text/plain": [
              "<keras.callbacks.History at 0x7fb7850fe278>"
            ]
          },
          "metadata": {
            "tags": []
          },
          "execution_count": 98
        }
      ]
    },
    {
      "cell_type": "code",
      "metadata": {
        "id": "EBZtuDJsM3mK",
        "colab_type": "code",
        "colab": {}
      },
      "source": [
        ""
      ],
      "execution_count": 0,
      "outputs": []
    }
  ]
}